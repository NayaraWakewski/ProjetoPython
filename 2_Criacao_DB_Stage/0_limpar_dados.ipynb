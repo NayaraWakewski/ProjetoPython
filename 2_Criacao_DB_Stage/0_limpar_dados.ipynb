{
 "cells": [
  {
   "cell_type": "code",
   "execution_count": null,
   "metadata": {},
   "outputs": [],
   "source": [
    "import psycopg2\n",
    "from psycopg2 import sql"
   ]
  },
  {
   "cell_type": "code",
   "execution_count": null,
   "metadata": {},
   "outputs": [],
   "source": [
    "# Parâmetros de conexão com o banco de dados\n",
    "params = {\n",
    "    'host': '127.0.0.1',\n",
    "    'port': '5432',\n",
    "    'database': 'airflow',\n",
    "    'user': 'airflow',\n",
    "    'password': 'airflow'\n",
    "}"
   ]
  },
  {
   "cell_type": "code",
   "execution_count": null,
   "metadata": {},
   "outputs": [],
   "source": [
    "# Comandos SQL para exclusão de tabelas\n",
    "sql_commands = {\n",
    "    'grant': \"GRANT ALL PRIVILEGES ON DATABASE airflow TO airflow;\",\n",
    "    'drop_fatos': [\n",
    "        \"DROP TABLE IF EXISTS dw.fato_contratos CASCADE;\",\n",
    "        \"DROP TABLE IF EXISTS dw.fato_convenios CASCADE;\"\n",
    "    ],\n",
    "    'drop_dimensoes': [\n",
    "        \"DROP TABLE IF EXISTS dw.dim_modalidade CASCADE;\",\n",
    "        \"DROP TABLE IF EXISTS dw.dim_projeto CASCADE;\",\n",
    "        \"DROP TABLE IF EXISTS dw.dim_entidade CASCADE;\",\n",
    "        \"DROP TABLE IF EXISTS dw.dim_contrato CASCADE;\",\n",
    "        \"DROP TABLE IF EXISTS dw.dim_participacao CASCADE;\"\n",
    "    ],\n",
    "    'drop_stage': [\n",
    "        \"DROP TABLE IF EXISTS stage.contratos CASCADE;\",\n",
    "        \"DROP TABLE IF EXISTS stage.convenios CASCADE;\"\n",
    "    ]\n",
    "}\n",
    "\n",
    "def execute_sql_commands(cursor, commands):\n",
    "    for command in commands:\n",
    "        cursor.execute(command)\n",
    "\n",
    "def main():\n",
    "    try:\n",
    "        # Conectar ao banco de dados\n",
    "        conn = psycopg2.connect(**params)\n",
    "        cursor = conn.cursor()\n",
    "\n",
    "        # Conceder permissões\n",
    "        cursor.execute(sql_commands['grant'])\n",
    "        print(\"Permissões concedidas com sucesso.\")\n",
    "\n",
    "        # Excluir tabelas de fato, dimensões e stage em sequência\n",
    "        for key in ['drop_fatos', 'drop_dimensoes', 'drop_stage']:\n",
    "            execute_sql_commands(cursor, sql_commands[key])\n",
    "            print(f\"Tabelas {key.replace('drop_', '').title()} excluídas com sucesso.\")\n",
    "\n",
    "        # Confirmar as alterações\n",
    "        conn.commit()\n",
    "\n",
    "    except psycopg2.Error as e:\n",
    "        print(\"Erro ao conectar ou executar comandos SQL:\", e)\n",
    "        conn.rollback()\n",
    "\n",
    "    finally:\n",
    "        # Fechar o cursor e a conexão\n",
    "        cursor.close()\n",
    "        conn.close()\n",
    "\n",
    "if __name__ == \"__main__\":\n",
    "    main()"
   ]
  }
 ],
 "metadata": {
  "kernelspec": {
   "display_name": ".venv",
   "language": "python",
   "name": "python3"
  },
  "language_info": {
   "name": "python",
   "version": "3.12.1"
  }
 },
 "nbformat": 4,
 "nbformat_minor": 2
}
